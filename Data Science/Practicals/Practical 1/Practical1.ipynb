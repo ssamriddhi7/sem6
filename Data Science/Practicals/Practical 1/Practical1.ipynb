{
 "cells": [
  {
   "cell_type": "code",
   "execution_count": 6,
   "id": "77c58785-2a4c-4ed7-8639-199b760a79ab",
   "metadata": {},
   "outputs": [
    {
     "name": "stdout",
     "output_type": "stream",
     "text": [
      "Array: [11 20 30 43 56]\n",
      "Type of Array: <class 'numpy.ndarray'>\n",
      "NumPy Version: 1.26.1\n"
     ]
    }
   ],
   "source": [
    "# Practical 1 - NumPy\n",
    "\n",
    "import numpy as np\n",
    "arr = np.array([11, 20, 30, 43, 56])\n",
    "print(f\"Array: {arr}\")\n",
    "print(f\"Type of Array: {type(arr)}\")\n",
    "print(f\"NumPy Version: {np.__version__}\")"
   ]
  },
  {
   "cell_type": "code",
   "execution_count": 9,
   "id": "2719b41b-df6c-441c-a14c-2e3bde416922",
   "metadata": {},
   "outputs": [
    {
     "name": "stdout",
     "output_type": "stream",
     "text": [
      "2D Array:\n",
      "[[ 1  2  3  4  5]\n",
      " [ 6  7  8  9 10]]\n",
      "No. of Dimensions: 2\n",
      "Row 1 Column 2: 2\n",
      "Row 2 Column 4: 9\n"
     ]
    }
   ],
   "source": [
    "arr = np.array([[1, 2, 3, 4, 5], [6, 7, 8, 9, 10]])\n",
    "print(f\"2D Array:\\n{arr}\")\n",
    "print(f\"No. of Dimensions: {arr.ndim}\")\n",
    "print(f\"Row 1 Column 2: {arr[0][1]}\")\n",
    "print(f\"Row 2 Column 4: {arr[1][3]}\")"
   ]
  },
  {
   "cell_type": "code",
   "execution_count": 10,
   "id": "1a81867e-b177-4c60-9c69-5bca001cde7c",
   "metadata": {},
   "outputs": [
    {
     "name": "stdout",
     "output_type": "stream",
     "text": [
      "Array: [ 1  2  3  4  5  6  7  8  9 10]\n",
      "Index 1 to Index 4: [2 3 4 5]\n",
      "Index 4 to End: [ 5  6  7  8  9 10]\n",
      "Start to Index 2: [1 2 3]\n",
      "Index 5 to Index 9 with gap of 3: [6 9]\n"
     ]
    }
   ],
   "source": [
    "arr = np.array([1, 2, 3, 4, 5, 6, 7, 8, 9, 10])\n",
    "print(f\"Array: {arr}\")\n",
    "print(f\"Index 1 to Index 4: {arr[1:5]}\")\n",
    "print(f\"Index 4 to End: {arr[4:]}\")\n",
    "print(f\"Start to Index 2: {arr[:3]}\")\n",
    "print(f\"Index 5 to Index 9 with gap of 3: {arr[5:10:3]}\")"
   ]
  },
  {
   "cell_type": "code",
   "execution_count": 16,
   "id": "dfdfed57-ac59-47a2-84a0-6b6099deefda",
   "metadata": {},
   "outputs": [
    {
     "name": "stdout",
     "output_type": "stream",
     "text": [
      "Concatenated Array: [1 2 3 4 5 6]\n",
      "\n",
      "Col-Concatenated Array:\n",
      " [[1 2]\n",
      " [3 4]\n",
      " [5 6]\n",
      " [7 8]]\n",
      "\n",
      "Row-Concatenated Array:\n",
      " [[1 2 5 6]\n",
      " [3 4 7 8]]\n"
     ]
    }
   ],
   "source": [
    "arr1 = np.array([1, 2, 3])\n",
    "arr2 = np.array([4, 5, 6])\n",
    "arr = np.concatenate((arr1, arr2))\n",
    "print(f\"Concatenated Array: {arr}\")\n",
    "\n",
    "arr1 = np.array([[1, 2], [3, 4]])\n",
    "arr2 = np.array([[5, 6], [7, 8]])\n",
    "arr = np.concatenate((arr1, arr2), axis=0)\n",
    "print(f\"\\nCol-Concatenated Array:\\n {arr}\")\n",
    "arr = np.concatenate((arr1, arr2), axis=1)\n",
    "print(f\"\\nRow-Concatenated Array:\\n {arr}\")"
   ]
  },
  {
   "cell_type": "code",
   "execution_count": 17,
   "id": "e7fc41a2-72fd-42ca-a9bf-e35d9baec433",
   "metadata": {},
   "outputs": [
    {
     "name": "stdout",
     "output_type": "stream",
     "text": [
      "Row-Stacked Array:\n",
      " [[1 2 3]\n",
      " [4 5 6]]\n",
      "Col-Stacked Array:\n",
      " [[1 4]\n",
      " [2 5]\n",
      " [3 6]]\n"
     ]
    }
   ],
   "source": [
    "p = np.array([1, 2, 3])\n",
    "q = np.array([4, 5, 6])\n",
    "arr = np.stack((p, q), axis=0)\n",
    "print(f\"Row-Stacked Array:\\n {arr}\")\n",
    "arr = np.stack((p, q), axis=1)\n",
    "print(f\"Col-Stacked Array:\\n {arr}\")"
   ]
  },
  {
   "cell_type": "code",
   "execution_count": 21,
   "id": "92242b64-c7ed-470d-8869-134513b61034",
   "metadata": {},
   "outputs": [
    {
     "name": "stdout",
     "output_type": "stream",
     "text": [
      "Array: [1 2 3 4 5]\n",
      "Array Split into 2: [array([1, 2, 3]), array([4, 5])]\n"
     ]
    }
   ],
   "source": [
    "arr = np.array([1, 2, 3, 4, 5])\n",
    "newarr = np.array_split(arr, 2)\n",
    "print(f\"Array: {arr}\")\n",
    "print(f\"Array Split into 2: {newarr}\")"
   ]
  },
  {
   "cell_type": "code",
   "execution_count": 27,
   "id": "19f094b3-f7c1-45b3-a2a5-6011cb46e46a",
   "metadata": {},
   "outputs": [
    {
     "name": "stdout",
     "output_type": "stream",
     "text": [
      "Array: [1 2 3 4 5 4 4]\n",
      "Indices with Element 4: (array([3, 5, 6], dtype=int64),)\n",
      "Indices with Odd Elements: (array([0, 2, 4], dtype=int64),)\n",
      "\n",
      "Array: [ 6  7  9 15]\n",
      "Index to Insert 10: 3\n",
      "\n",
      "Array: [66 87 98 91 32 57 43]\n",
      "Elements greater than 90: [98 91]\n",
      "Odd Elements: [87 91 57 43]\n"
     ]
    }
   ],
   "source": [
    "arr = np.array([1, 2, 3, 4, 5, 4, 4])\n",
    "print(f\"Array: {arr}\")\n",
    "print(f\"Indices with Element 4: {np.where(arr == 4)}\")\n",
    "print(f\"Indices with Odd Elements: {np.where(arr % 2 != 0)}\")\n",
    "\n",
    "arr = np.array([6, 7, 9, 15])\n",
    "print(f\"\\nArray: {arr}\")\n",
    "print(f\"Index to Insert 10: {np.searchsorted(arr, 10)}\")\n",
    "\n",
    "arr = np.array([66, 87, 98, 91, 32, 57, 43])\n",
    "greater = []\n",
    "odd = []\n",
    "for element in arr:\n",
    "    greater.append(element > 90)\n",
    "    odd.append(element % 2 != 0)\n",
    "print(f\"\\nArray: {arr}\")\n",
    "print(f\"Elements greater than 90: {arr[greater]}\")\n",
    "print(f\"Odd Elements: {arr[odd]}\")"
   ]
  },
  {
   "cell_type": "code",
   "execution_count": 113,
   "id": "2c3ae8ed-f874-4d3c-94e5-6a052dda0684",
   "metadata": {},
   "outputs": [
    {
     "name": "stdout",
     "output_type": "stream",
     "text": [
      "Array:\n",
      "[[5 2 4]\n",
      " [3 2 1]\n",
      " [1 9 5]]\n",
      "Sum of All Elements: 32\n",
      "Row-Wise Sum: [11  6 15]\n",
      "Col-Wise Sum: [ 9 13 10]\n",
      "Diagonal Elements: [5 2 5]\n",
      "Sum of Diagonal Elements: 12\n",
      "\n",
      "Array:\n",
      "[[6 7 8]\n",
      " [5 8 2]\n",
      " [9 9 2]]\n",
      "Maximum Element: 9\n",
      "Index of Maximum Element: 6\n",
      "Minimum Element: 2\n",
      "Index of Minimum Element: 5\n"
     ]
    }
   ],
   "source": [
    "arr = np.array([[5, 2, 4], [3, 2, 1], [1, 9, 5]])\n",
    "print(f\"Array:\\n{arr}\")\n",
    "print(f\"Sum of All Elements: {np.sum(arr)}\")\n",
    "print(f\"Row-Wise Sum: {np.sum(arr, axis=1)}\")\n",
    "print(f\"Col-Wise Sum: {np.sum(arr, axis=0)}\")\n",
    "print(f\"Diagonal Elements: {np.diagonal(arr)}\")\n",
    "print(f\"Sum of Diagonal Elements: {np.trace(arr)}\")\n",
    "\n",
    "arr = np.matrix(\"[6, 7, 8; 5, 8, 2; 9, 9, 2]\")\n",
    "print(f\"\\nArray:\\n{arr}\")\n",
    "print(f\"Maximum Element: {np.max(arr)}\")\n",
    "print(f\"Index of Maximum Element: {np.argmax(arr)}\")\n",
    "print(f\"Minimum Element: {np.min(arr)}\")\n",
    "print(f\"Index of Minimum Element: {np.argmin(arr)}\")"
   ]
  },
  {
   "cell_type": "code",
   "execution_count": 120,
   "id": "d9e0a682-2baa-4e51-ae1f-10285245d49b",
   "metadata": {},
   "outputs": [
    {
     "name": "stdout",
     "output_type": "stream",
     "text": [
      "Addition: \n",
      "[[11 22]\n",
      " [33 44]]\n",
      "Subtraction: \n",
      "[[ 9 18]\n",
      " [27 36]]\n",
      "Upper Triangle: \n",
      "[[ 0 20]\n",
      " [ 0  0]]\n",
      "Lower Triangle: \n",
      "[[ 0  0]\n",
      " [30  0]]\n",
      "\n",
      "Random Array: [25 12 21 11 29]\n",
      "Identity Matrix: \n",
      "[[1. 0. 0.]\n",
      " [0. 1. 0.]\n",
      " [0. 0. 1.]]\n"
     ]
    }
   ],
   "source": [
    "a = np.array([[10, 20], [30, 40]])\n",
    "b = np.array([[1, 2], [3, 4]])\n",
    "print(f\"Addition: \\n{np.add(a, b)}\")\n",
    "print(f\"Subtraction: \\n{np.subtract(a, b)}\")\n",
    "print(f\"Upper Triangle: \\n{np.triu(a, k = 1)}\")\n",
    "print(f\"Lower Triangle: \\n{np.tril(a, k = -1)}\")\n",
    "\n",
    "arr = np.random.randint(low=10, high=30, size=5)\n",
    "print(f\"\\nRandom Array: {arr}\")\n",
    "print(f\"Identity Matrix: \\n{np.eye(3)}\")"
   ]
  },
  {
   "cell_type": "code",
   "execution_count": 40,
   "id": "80f97737-b127-49c3-ab13-0fa9a4a8ba0a",
   "metadata": {},
   "outputs": [
    {
     "name": "stdout",
     "output_type": "stream",
     "text": [
      "Array: [(1, 'Red', 12.2) (2, 'Green', 15. ) (3, 'White', 20. )]\n"
     ]
    }
   ],
   "source": [
    "arr1 = np.array([1, 2, 3])\n",
    "arr2 = np.array([\"Red\", \"Green\", \"White\"])\n",
    "arr3 = np.array([12.2, 15, 20])\n",
    "\n",
    "arr = np.core.records.fromarrays([arr1, arr2, arr3], names=\"a, b, c\")\n",
    "print(f\"Array: {arr}\")"
   ]
  },
  {
   "cell_type": "code",
   "execution_count": 114,
   "id": "dc17b937-ab17-45ef-8ff3-2d0a91e19ee6",
   "metadata": {},
   "outputs": [
    {
     "name": "stdout",
     "output_type": "stream",
     "text": [
      "Array: [ 10  20  30  40  50  60  70  80  90 100]\n",
      "Sum of Array: 550\n",
      "Product of Array: 1704722432\n",
      "Mean of Array: 55.0\n",
      "Median of Array: 55.0\n",
      "SD of Array: 28.722813232690143\n",
      "Square Root of Elements: [ 3.16227766  4.47213595  5.47722558  6.32455532  7.07106781  7.74596669\n",
      "  8.36660027  8.94427191  9.48683298 10.        ]\n",
      "Deleted Array: [ 30  50  60  70  80  90 100]\n"
     ]
    }
   ],
   "source": [
    "arr = np.array([10, 20, 30, 40, 50, 60, 70, 80, 90, 100])\n",
    "indices = [0, 1, 3]\n",
    "print(f\"Array: {arr}\")\n",
    "print(f\"Sum of Array: {arr.sum()}\")\n",
    "print(f\"Product of Array: {arr.prod()}\")\n",
    "print(f\"Mean of Array: {arr.mean()}\")\n",
    "print(f\"Median of Array: {np.median(arr)}\")\n",
    "print(f\"SD of Array: {arr.std()}\")\n",
    "print(f\"Deleted Array: {np.delete(arr, indices)}\")"
   ]
  },
  {
   "cell_type": "code",
   "execution_count": 46,
   "id": "b2f3ba32-d433-4b5d-9a4f-d39fdc1e42af",
   "metadata": {},
   "outputs": [
    {
     "name": "stdout",
     "output_type": "stream",
     "text": [
      "Array: \n",
      "[[ 0  1  2  3]\n",
      " [ 4  5  6  7]\n",
      " [ 8  9 10 11]\n",
      " [12 13 14 15]]\n",
      "\n",
      "Extracted Array: \n",
      "[[ 1  2  3]\n",
      " [ 5  6  7]\n",
      " [ 9 10 11]]\n"
     ]
    }
   ],
   "source": [
    "arr = np.arange(0, 16).reshape((4, 4))\n",
    "newarr = arr[0:3, 1:4]\n",
    "print(f\"Array: \\n{arr}\")\n",
    "print(f\"\\nExtracted Array: \\n{newarr}\")"
   ]
  },
  {
   "cell_type": "code",
   "execution_count": 48,
   "id": "4e703ae8-2682-41d8-9f88-98e9105c4eb6",
   "metadata": {},
   "outputs": [
    {
     "name": "stdout",
     "output_type": "stream",
     "text": [
      "Array: [1.+0.j 2.+0.j 3.+0.j]\n"
     ]
    }
   ],
   "source": [
    "arr = np.array([1, 2, 3], dtype=complex)\n",
    "print(f\"Array: {arr}\")"
   ]
  },
  {
   "cell_type": "code",
   "execution_count": 102,
   "id": "57df0b25-a494-460f-a9f1-f89348ca0105",
   "metadata": {},
   "outputs": [
    {
     "name": "stdout",
     "output_type": "stream",
     "text": [
      "Array: [(b'Gaurav', 20, 100.) (b'Aryan', 19,  95.) (b'Mayin', 20,  90.)]\n",
      "Array Sorted by Age: [(b'Aryan', 19,  95.) (b'Gaurav', 20, 100.) (b'Mayin', 20,  90.)]\n"
     ]
    }
   ],
   "source": [
    "student = np.dtype([('name', 'S20'), ('age', 'i2'), ('marks', 'f4')])\n",
    "arr = np.array([(\"Gaurav\", 20, 100), (\"Aryan\", 19, 95), (\"Mayin\", 20, 90)], dtype=student)\n",
    "print(f\"Array: {arr}\")\n",
    "print(f\"Array Sorted by Age: {np.sort(arr, order='age')}\")"
   ]
  },
  {
   "cell_type": "code",
   "execution_count": 110,
   "id": "256ed2ea-9e92-4e8b-8120-cda7004e2545",
   "metadata": {},
   "outputs": [
    {
     "name": "stdout",
     "output_type": "stream",
     "text": [
      "Array:\n",
      "[[3 1 2]\n",
      " [5 4 6]]\n",
      "Sorted Array:\n",
      "[[1 2 3]\n",
      " [4 5 6]]\n",
      "Shape of Array: (2, 3)\n",
      "\n",
      "Array 1: [0 1 2 3 4 5]\n",
      "Array 2: [ 1  7 13 19 25 31]\n"
     ]
    }
   ],
   "source": [
    "arr = np.array([[3, 1, 2], [5, 4, 6]])\n",
    "print(f\"Array:\\n{arr}\")\n",
    "print(f\"Sorted Array:\\n{np.sort(arr, axis=1)}\")\n",
    "print(f\"Shape of Array: {arr.shape}\")\n",
    "\n",
    "arr1 = np.arange(6)\n",
    "arr2 = np.arange(1, 33, 6)\n",
    "print(f\"\\nArray 1: {arr1}\")\n",
    "print(f\"Array 2: {arr2}\")"
   ]
  },
  {
   "cell_type": "code",
   "execution_count": 111,
   "id": "47f6d0a5-8f0d-4e6c-8049-f1880c422204",
   "metadata": {},
   "outputs": [
    {
     "name": "stdout",
     "output_type": "stream",
     "text": [
      "Array of Zeros: [0. 0. 0. 0. 0.]\n",
      "Array of Ones: [1. 1. 1. 1. 1.]\n",
      "Matrix of Zeros:\n",
      "[[0. 0.]\n",
      " [0. 0.]]\n",
      "Array of Plots: [10.         13.33333333 16.66666667 20.        ]\n"
     ]
    }
   ],
   "source": [
    "print(f\"Array of Zeros: {np.zeros(5)}\")\n",
    "print(f\"Array of Ones: {np.ones(5)}\")\n",
    "print(f\"Matrix of Zeros:\\n{np.zeros([2, 2])}\")\n",
    "print(f\"Array of Plots: {np.linspace(10, 20, 4)}\")"
   ]
  },
  {
   "cell_type": "code",
   "execution_count": 58,
   "id": "6f1ae94f-deed-4fcc-bb41-8b056a2567e5",
   "metadata": {},
   "outputs": [
    {
     "name": "stdout",
     "output_type": "stream",
     "text": [
      "Array:\n",
      "[[1 2]\n",
      " [3 4]]\n",
      "Transpose:\n",
      "[[1 3]\n",
      " [2 4]]\n"
     ]
    }
   ],
   "source": [
    "arr = np.array([[1, 2], [3, 4]])\n",
    "print(f\"Array:\\n{arr}\")\n",
    "print(f\"Transpose:\\n{np.transpose(arr)}\")"
   ]
  },
  {
   "cell_type": "code",
   "execution_count": 70,
   "id": "69148a7a-78d2-4d9d-91af-e89139f9bba9",
   "metadata": {},
   "outputs": [
    {
     "name": "stdout",
     "output_type": "stream",
     "text": [
      "Array: [29 33 57 45 30  5 51 23 28 43]\n",
      "Elements less than 50: [29 33 45 30  5 23 28 43]\n",
      "Elements more than 50: [57 51]\n",
      "Elements divisible by 3: [33 57 45 30 51]\n"
     ]
    }
   ],
   "source": [
    "arr = np.random.randint(1, 100, 10)\n",
    "print(f\"Array: {arr}\")\n",
    "print(f\"Elements less than 50: {arr[arr < 50]}\")\n",
    "print(f\"Elements more than 50: {arr[arr > 50]}\")\n",
    "print(f\"Elements divisible by 3: {arr[arr % 3 == 0]}\")"
   ]
  },
  {
   "cell_type": "code",
   "execution_count": 122,
   "id": "c2ce8713-a5a1-4292-8363-dede3efeb233",
   "metadata": {},
   "outputs": [
    {
     "name": "stdout",
     "output_type": "stream",
     "text": [
      "Multiplied: catcatcat\n",
      "Centered: ***cat****\n",
      "Capitalized: Welcome to my class\n",
      "Title: Welcome To My Class\n",
      "Uppercase: WELCOME TO MY CLASS\n",
      "Lowercase: welcome to my class\n",
      "Split: ['welcome', 'to', 'my', 'class']\n",
      "Replaced: welcome to your class\n",
      "Encoded: b'\\x88\\x85\\x93\\x93\\x96'\n",
      "Decoded: hello\n"
     ]
    }
   ],
   "source": [
    "print(f\"Multiplied: {np.char.multiply(\"cat\", 3)}\")\n",
    "print(f\"Centered: {np.char.center(\"cat\", 10, \"*\")}\")\n",
    "print(f\"Capitalized: {np.char.capitalize(\"welcome to my class\")}\")\n",
    "print(f\"Title: {np.char.title(\"welcome to my class\")}\")\n",
    "print(f\"Uppercase: {np.char.upper(\"welcome to my class\")}\")\n",
    "print(f\"Lowercase: {np.char.lower(\"WELCOME TO mY CLASS\")}\")\n",
    "print(f\"Split: {np.char.split(\"welcome to my class\")}\")\n",
    "print(f\"Replaced: {np.char.replace(\"welcome to my class\", \"my\", \"your\")}\")\n",
    "encoded = np.char.encode(\"hello\", \"cp500\")\n",
    "decoded = np.char.decode(encoded, \"cp500\")\n",
    "print(f\"Encoded: {encoded}\")\n",
    "print(f\"Decoded: {decoded}\")"
   ]
  },
  {
   "cell_type": "code",
   "execution_count": 73,
   "id": "32bf6aa7-cca1-442e-9359-fbb7607332ae",
   "metadata": {},
   "outputs": [
    {
     "name": "stdout",
     "output_type": "stream",
     "text": [
      "Array:\n",
      " [[80 10 60 51]\n",
      " [27 59 53 65]\n",
      " [53 69 63 57]\n",
      " [55 67 89 44]]\n",
      "Maximum Element Col-Wise: [80 69 89 65]\n",
      "Maximum Element Row-Wise: [80 65 69 89]\n"
     ]
    }
   ],
   "source": [
    "arr = np.random.randint(10, 90, (4, 4))\n",
    "print(f\"Array:\\n {arr}\")\n",
    "print(f\"Maximum Element Col-Wise: {arr.max(axis=0)}\")\n",
    "print(f\"Maximum Element Row-Wise: {arr.max(axis=1)}\")"
   ]
  },
  {
   "cell_type": "code",
   "execution_count": 81,
   "id": "a10094aa-f73d-42b8-944e-3b4a8d32cb76",
   "metadata": {},
   "outputs": [
    {
     "name": "stdout",
     "output_type": "stream",
     "text": [
      "Array 1:\n",
      " [[12 10 11 11]\n",
      " [ 6 10  9  5]\n",
      " [ 9  6  2  4]]\n",
      "Array 2:\n",
      " [[68 42 83]\n",
      " [61 75 58]\n",
      " [86 86 74]\n",
      " [53 81 48]]\n",
      "Dot Product:\n",
      " [[2955 3091 2918]\n",
      " [2057 2181 1984]\n",
      " [1362 1324 1435]]\n",
      "\n",
      "Array:\n",
      " [[4 1 7]\n",
      " [8 3 8]\n",
      " [2 7 4]]\n",
      "Self-Multiplication:\n",
      " [[16  1 49]\n",
      " [64  9 64]\n",
      " [ 4 49 16]]\n",
      "Determinant: 158.00000000000003\n"
     ]
    }
   ],
   "source": [
    "arr1 = np.random.randint(1, 15, (3, 4))\n",
    "arr2 = np.random.randint(10, 90, (4, 3))\n",
    "print(f\"Array 1:\\n {arr1}\")\n",
    "print(f\"Array 2:\\n {arr2}\")\n",
    "print(f\"Dot Product:\\n {np.dot(arr1, arr2)}\")\n",
    "\n",
    "arr = np.random.randint(1, 10, (3, 3))\n",
    "print(f\"\\nArray:\\n {arr}\")\n",
    "print(f\"Self-Multiplication:\\n {arr * arr}\")\n",
    "print(f\"Determinant: {np.linalg.det(arr)}\")"
   ]
  },
  {
   "cell_type": "code",
   "execution_count": 116,
   "id": "a4fd75db-6b41-4f08-8619-1655ddcb4ced",
   "metadata": {},
   "outputs": [
    {
     "name": "stdout",
     "output_type": "stream",
     "text": [
      "Array: [2 4 7]\n",
      "Square Root: [1.41421356 2.         2.64575131]\n",
      "sin: [ 0.90929743 -0.7568025   0.6569866 ]\n",
      "cos: [-0.41614684 -0.65364362  0.75390225]\n",
      "\n",
      "Array 1: [1 2 3 2 3 4 3 4 5 6]\n",
      "Array 2: [ 7  2 10  2  7  4  9  4  9  8]\n",
      "Intersect: [2 4]\n",
      "Difference: [1 3 5 6]\n"
     ]
    }
   ],
   "source": [
    "arr = np.random.randint(1, 10, 3)\n",
    "print(f\"Array: {arr}\")\n",
    "print(f\"Square Root: {np.sqrt(arr)}\")\n",
    "print(f\"sin: {np.sin(arr)}\")\n",
    "print(f\"cos: {np.cos(arr)}\")\n",
    "\n",
    "arr1 = np.array([1, 2, 3, 2, 3, 4, 3, 4, 5, 6])\n",
    "arr2 = np.array([7, 2, 10, 2, 7, 4, 9, 4, 9, 8])\n",
    "print(f\"\\nArray 1: {arr1}\")\n",
    "print(f\"Array 2: {arr2}\")\n",
    "print(f\"Intersect: {np.intersect1d(arr1, arr2)}\")\n",
    "print(f\"Difference: {np.setdiff1d(arr1, arr2)}\")"
   ]
  },
  {
   "cell_type": "code",
   "execution_count": 123,
   "id": "1ca86e15-b3b0-41a0-9c0d-737d240292da",
   "metadata": {},
   "outputs": [
    {
     "name": "stdout",
     "output_type": "stream",
     "text": [
      "Array: ['Welcome to B.Sc' 'Welcome to World']\n"
     ]
    }
   ],
   "source": [
    "arr = np.char.add(['Welcome'], [' to B.Sc', ' to World'])\n",
    "print(f\"Array: {arr}\")"
   ]
  },
  {
   "cell_type": "code",
   "execution_count": null,
   "id": "bea29708-452b-4782-9fd1-a2236147687b",
   "metadata": {},
   "outputs": [],
   "source": []
  }
 ],
 "metadata": {
  "kernelspec": {
   "display_name": "Python 3 (ipykernel)",
   "language": "python",
   "name": "python3"
  },
  "language_info": {
   "codemirror_mode": {
    "name": "ipython",
    "version": 3
   },
   "file_extension": ".py",
   "mimetype": "text/x-python",
   "name": "python",
   "nbconvert_exporter": "python",
   "pygments_lexer": "ipython3",
   "version": "3.12.4"
  }
 },
 "nbformat": 4,
 "nbformat_minor": 5
}
