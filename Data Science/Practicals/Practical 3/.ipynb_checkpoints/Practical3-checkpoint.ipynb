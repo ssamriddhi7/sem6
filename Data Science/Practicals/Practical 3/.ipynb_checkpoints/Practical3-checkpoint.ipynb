{
 "cells": [
  {
   "cell_type": "code",
   "execution_count": 55,
   "id": "55f8e5b4-b54b-4c6e-ab9e-9b202c0c06a5",
   "metadata": {},
   "outputs": [
    {
     "name": "stdout",
     "output_type": "stream",
     "text": [
      "   x  y  x^2  xy\n",
      "A  0  2    0   0\n",
      "B  1  3    1   3\n",
      "C  2  5    4  10\n",
      "D  3  4    9  12\n",
      "E  4  6   16  24\n",
      "\n",
      "Value of x: 10\n",
      "Value of y: 11.200000000000003\n"
     ]
    }
   ],
   "source": [
    "# Practical 3 - Linear Regression\n",
    "\n",
    "import pandas as pd\n",
    "\n",
    "def linear_regression(df, x):\n",
    "    n = df.shape[0]\n",
    "    df['x^2'] = df['x'] * df['x']\n",
    "    df['xy'] = df['x'] * df['y']\n",
    "\n",
    "    xbar = df['x'].mean()\n",
    "    ybar = df['y'].mean()\n",
    "    xsquarebar = df['x^2'].mean()\n",
    "    xybar = df['xy'].mean()\n",
    "    \n",
    "    a1 = (xybar - (xbar * ybar)) / (xsquarebar - (xbar * xbar))\n",
    "    a0 = ybar - (a1 * xbar)\n",
    "    return a0 + (a1 * x)\n",
    "\n",
    "data = [[0, 2], [1, 3], [2, 5], [3, 4], [4, 6]]\n",
    "#data = [[1, 1.2], [2, 1.8], [3, 2.5], [4, 3.2], [5, 3.8], [6, 3.5]]\n",
    "columns = ['x', 'y']\n",
    "index = [chr(code + 65) for code in range(len(data))]\n",
    "\n",
    "df = pd.DataFrame(data=data, columns=columns, index=index)\n",
    "x = 10\n",
    "y = linear_regression(df, x)\n",
    "print(df)\n",
    "print(f\"\\nValue of x: {x}\")\n",
    "print(f\"Value of y: {y}\")"
   ]
  },
  {
   "cell_type": "code",
   "execution_count": null,
   "id": "dcbaa832-9993-4983-b516-3a8d48e70a35",
   "metadata": {},
   "outputs": [],
   "source": []
  }
 ],
 "metadata": {
  "kernelspec": {
   "display_name": "Python 3 (ipykernel)",
   "language": "python",
   "name": "python3"
  },
  "language_info": {
   "codemirror_mode": {
    "name": "ipython",
    "version": 3
   },
   "file_extension": ".py",
   "mimetype": "text/x-python",
   "name": "python",
   "nbconvert_exporter": "python",
   "pygments_lexer": "ipython3",
   "version": "3.11.4"
  }
 },
 "nbformat": 4,
 "nbformat_minor": 5
}
