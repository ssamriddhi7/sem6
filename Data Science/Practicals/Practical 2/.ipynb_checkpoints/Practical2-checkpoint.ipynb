{
 "cells": [
  {
   "cell_type": "code",
   "execution_count": 11,
   "id": "a5bfe9aa-dbf6-41e5-b7b4-9ef7eeed091c",
   "metadata": {},
   "outputs": [
    {
     "name": "stdout",
     "output_type": "stream",
     "text": [
      "Data Frame: \n",
      "   col1  col2  col3  col4\n",
      "A    26    21    21    10\n",
      "B    20    11    41    33\n",
      "C    26    38    20    45\n",
      "D    15    29    42    42\n",
      "E    20    13    30    45\n",
      "F    12    18    34    14\n",
      "G    20    47    35    45\n",
      "H    24    48    13    28\n",
      "I    29    37    27    11\n",
      "J    13    17    32    35\n",
      "\n",
      "Column 1: \n",
      "A    26\n",
      "B    20\n",
      "C    26\n",
      "D    15\n",
      "E    20\n",
      "F    12\n",
      "G    20\n",
      "H    24\n",
      "I    29\n",
      "J    13\n",
      "Name: col1, dtype: int32\n",
      "\n",
      "Type of DF: <class 'pandas.core.frame.DataFrame'>\n",
      "Rows of DF: ['A', 'B', 'C', 'D', 'E', 'F', 'G', 'H', 'I', 'J']\n",
      "Columns of DF: ['col1', 'col2', 'col3', 'col4']\n",
      "Shape of DF: (10, 4)\n",
      "Type of Column 1: <class 'pandas.core.series.Series'>\n"
     ]
    }
   ],
   "source": [
    "import pandas as pd\n",
    "import numpy as np\n",
    "\n",
    "data = np.random.randint(10, 50, (10, 4))\n",
    "columns = [f'col{i}' for i in range(1, 5)]\n",
    "index = [chr(code) for code in range(65, 75)]\n",
    "df = pd.DataFrame(data=data, columns=columns, index=index)\n",
    "\n",
    "print(f\"Data Frame: \\n{df}\")\n",
    "print(f\"\\nColumn 1: \\n{df['col1']}\")\n",
    "print(f\"\\nType of DF: {type(df)}\")\n",
    "print(f\"Rows of DF: {list(df.index)}\")\n",
    "print(f\"Columns of DF: {list(df.columns)}\")\n",
    "print(f\"Shape of DF: {df.shape}\")\n",
    "print(f\"Type of Column 1: {type(df['col1'])}\")"
   ]
  },
  {
   "cell_type": "code",
   "execution_count": 15,
   "id": "4c5e5d5c-5f71-40d7-a0f5-a5d33c2e4956",
   "metadata": {},
   "outputs": [
    {
     "name": "stdout",
     "output_type": "stream",
     "text": [
      "Column Selection: \n",
      "   col3  col2\n",
      "A    21    21\n",
      "B    41    11\n",
      "C    20    38\n",
      "D    42    29\n",
      "E    30    13\n",
      "F    34    18\n",
      "G    35    47\n",
      "H    13    48\n",
      "I    27    37\n",
      "J    32    17\n",
      "\n",
      "Row J: \n",
      "col1    13\n",
      "col2    17\n",
      "col3    32\n",
      "col4    35\n",
      "Name: J, dtype: int32\n",
      "\n",
      "Row 5: \n",
      "col1    20\n",
      "col2    47\n",
      "col3    35\n",
      "col4    45\n",
      "Name: G, dtype: int32\n"
     ]
    }
   ],
   "source": [
    "print(f\"Column Selection: \\n{df[['col3', 'col2']]}\")\n",
    "print(f\"\\nRow J: \\n{df.loc['J']}\")\n",
    "print(f\"\\nRow 5: \\n{df.iloc[6]}\")"
   ]
  },
  {
   "cell_type": "code",
   "execution_count": 19,
   "id": "1677b098-1b5c-4055-a688-a7503a0aa3df",
   "metadata": {},
   "outputs": [
    {
     "name": "stdout",
     "output_type": "stream",
     "text": [
      "Selection using Square Brackets: \n",
      "   col1  col3\n",
      "C    26    20\n",
      "D    15    42\n",
      "H    24    13\n",
      "I    29    27\n",
      "\n",
      "Selection using Comma: \n",
      "   col1  col3\n",
      "C    26    20\n",
      "D    15    42\n",
      "H    24    13\n",
      "I    29    27\n",
      "\n",
      "Selection using loc: \n",
      "   col1  col3\n",
      "C    26    20\n",
      "D    15    42\n",
      "H    24    13\n",
      "I    29    27\n"
     ]
    }
   ],
   "source": [
    "print(f\"Selection using Square Brackets: \\n{df.loc[['C', 'D', 'H', 'I']][['col1', 'col3']]}\")\n",
    "print(f\"\\nSelection using Comma: \\n{df.loc[['C', 'D', 'H', 'I'], ['col1', 'col3']]}\")\n",
    "print(f\"\\nSelection using loc: \\n{df[['col1', 'col3']].loc[['C', 'D', 'H', 'I']]}\")"
   ]
  },
  {
   "cell_type": "code",
   "execution_count": 23,
   "id": "75ef8482-1764-40ab-a333-52de9cbe0b68",
   "metadata": {},
   "outputs": [
    {
     "name": "stdout",
     "output_type": "stream",
     "text": [
      "Alternate Rows: \n",
      "   col1  col2  col3  col4\n",
      "A    26    21    21    10\n",
      "C    26    38    20    45\n",
      "E    20    13    30    45\n",
      "G    20    47    35    45\n",
      "I    29    37    27    11\n",
      "\n",
      "Last 5 Rows: \n",
      "   col1  col2  col3  col4\n",
      "F    12    18    34    14\n",
      "G    20    47    35    45\n",
      "H    24    48    13    28\n",
      "I    29    37    27    11\n",
      "J    13    17    32    35\n",
      "\n",
      "Except Last 5 Rows: \n",
      "   col1  col2  col3  col4\n",
      "A    26    21    21    10\n",
      "B    20    11    41    33\n",
      "C    26    38    20    45\n",
      "D    15    29    42    42\n",
      "E    20    13    30    45\n"
     ]
    }
   ],
   "source": [
    "print(f\"Alternate Rows: \\n{df.iloc[::2]}\")\n",
    "print(f\"\\nLast 5 Rows: \\n{df.iloc[-5:]}\")\n",
    "print(f\"\\nExcept Last 5 Rows: \\n{df.iloc[:-5]}\")"
   ]
  },
  {
   "cell_type": "code",
   "execution_count": 26,
   "id": "e7cbedfb-7ffb-40fc-a6b8-a8beb60963b4",
   "metadata": {},
   "outputs": [
    {
     "name": "stdout",
     "output_type": "stream",
     "text": [
      "Rows 4 to 6, Columns 1 to 3: \n",
      "   col1  col2  col3\n",
      "E    20    13    30\n",
      "F    12    18    34\n",
      "G    20    47    35\n",
      "\n",
      "Every 3rd Row and 2nd Column: \n",
      "   col1  col3\n",
      "A    26    21\n",
      "D    15    42\n",
      "G    20    35\n",
      "J    13    32\n"
     ]
    }
   ],
   "source": [
    "print(f\"Rows 4 to 6, Columns 1 to 3: \\n{df.iloc[4:7,0:3]}\")\n",
    "print(f\"\\nEvery 3rd Row and 2nd Column: \\n{df.iloc[::3,::2]}\")"
   ]
  },
  {
   "cell_type": "code",
   "execution_count": 35,
   "id": "41ca2da7-5447-49b9-9e02-ee7f49eb4dca",
   "metadata": {},
   "outputs": [
    {
     "name": "stdout",
     "output_type": "stream",
     "text": [
      "Data Frame: \n",
      "        col1    col2    col3    col4   total\n",
      "A       26.0    21.0    21.0    10.0    78.0\n",
      "B       20.0    11.0    41.0    33.0   105.0\n",
      "C       26.0    38.0    20.0    45.0   129.0\n",
      "D       15.0    29.0    42.0    42.0   128.0\n",
      "E       20.0    13.0    30.0    45.0   108.0\n",
      "F       12.0    18.0    34.0    14.0    78.0\n",
      "G       20.0    47.0    35.0    45.0   147.0\n",
      "H       24.0    48.0    13.0    28.0   113.0\n",
      "I       29.0    37.0    27.0    11.0   104.0\n",
      "J       10.0    20.0    30.0    40.0    50.0\n",
      "K      100.0   200.0   300.0   400.0   500.0\n",
      "total  906.0  1446.0  1779.0  2139.0  6270.0\n"
     ]
    }
   ],
   "source": [
    "df['total'] = df['col1'] + df['col2'] + df['col3'] + df['col4']\n",
    "df.loc['total'] = df.sum()\n",
    "df.loc['J'] = [10, 20, 30, 40, 50]\n",
    "df.loc['K'] = [100, 200, 300, 400, 500]\n",
    "print(f\"Data Frame: \\n{df}\")"
   ]
  },
  {
   "cell_type": "code",
   "execution_count": 36,
   "id": "aaf7952d-d7ef-42ab-b6a5-c13422532e9f",
   "metadata": {},
   "outputs": [
    {
     "name": "stdout",
     "output_type": "stream",
     "text": [
      "Data Frame: \n",
      "    col1   col2   col3   col4\n",
      "A   26.0   21.0   21.0   10.0\n",
      "B   20.0   11.0   41.0   33.0\n",
      "C   26.0   38.0   20.0   45.0\n",
      "D   15.0   29.0   42.0   42.0\n",
      "E   20.0   13.0   30.0   45.0\n",
      "F   12.0   18.0   34.0   14.0\n",
      "G   20.0   47.0   35.0   45.0\n",
      "H   24.0   48.0   13.0   28.0\n",
      "I   29.0   37.0   27.0   11.0\n",
      "J   10.0   20.0   30.0   40.0\n",
      "K  100.0  200.0  300.0  400.0\n"
     ]
    }
   ],
   "source": [
    "df.drop('total', axis=1, inplace=True) # inplace = permanent)\n",
    "df.drop('total', axis=0, inplace=True) # inplace = permanent)\n",
    "print(f\"Data Frame: \\n{df}\")"
   ]
  },
  {
   "cell_type": "code",
   "execution_count": 37,
   "id": "27ee57b0-47b6-4840-95ae-a1af30e8b984",
   "metadata": {},
   "outputs": [
    {
     "data": {
      "text/plain": [
       "A    26.0\n",
       "B   -10.0\n",
       "C    44.0\n",
       "D     2.0\n",
       "E     3.0\n",
       "F    -4.0\n",
       "G    32.0\n",
       "H    59.0\n",
       "I    39.0\n",
       "J     0.0\n",
       "K     0.0\n",
       "dtype: float64"
      ]
     },
     "execution_count": 37,
     "metadata": {},
     "output_type": "execute_result"
    }
   ],
   "source": [
    "df['col1'] + df['col2'] - df['col3']"
   ]
  },
  {
   "cell_type": "code",
   "execution_count": 43,
   "id": "9dda43d7-8216-4693-b0a2-3be8917b2def",
   "metadata": {},
   "outputs": [
    {
     "name": "stdout",
     "output_type": "stream",
     "text": [
      "Filtered Data Frame: \n",
      "   col1  col2  col3  col4\n",
      "C  26.0  38.0  20.0  45.0\n",
      "G  20.0  47.0  35.0  45.0\n",
      "H  24.0  48.0  13.0  28.0\n",
      "I  29.0  37.0  27.0  11.0\n",
      "\n",
      "Filtered Data Frame: \n",
      "    col1   col2   col3   col4\n",
      "C   26.0   38.0   20.0   45.0\n",
      "F   12.0   18.0   34.0   14.0\n",
      "H   24.0   48.0   13.0   28.0\n",
      "J   10.0   20.0   30.0   40.0\n",
      "K  100.0  200.0  300.0  400.0\n"
     ]
    }
   ],
   "source": [
    "filter = (df['col1'] < 60) & (df['col2'] > 30)\n",
    "print(f\"Filtered Data Frame: \\n{df[filter]}\")\n",
    "\n",
    "filter = (df['col1'] % 2 == 0) & (df['col2'] % 2 == 0)\n",
    "print(f\"\\nFiltered Data Frame: \\n{df[filter]}\")"
   ]
  },
  {
   "cell_type": "code",
   "execution_count": 44,
   "id": "be6f92bd-bef4-4072-8611-706d90036ada",
   "metadata": {},
   "outputs": [
    {
     "name": "stdout",
     "output_type": "stream",
     "text": [
      "Sum of Column 1: 302.0\n",
      "Median of Column 1: 20.0\n"
     ]
    }
   ],
   "source": [
    "print(f\"Sum of Column 1: {df['col1'].sum()}\")\n",
    "print(f\"Median of Column 1: {df['col1'].median()}\")"
   ]
  },
  {
   "cell_type": "code",
   "execution_count": 55,
   "id": "24bf4570-127c-4be3-8e19-428df93b453a",
   "metadata": {},
   "outputs": [
    {
     "name": "stdout",
     "output_type": "stream",
     "text": [
      "Data Frame:\n",
      "    id  gender  age  height diet.type  initial.weight  final.weight\n",
      "0    1  Female   22     159         A              58          54.2\n",
      "1    2  Female   46     192         A              60          54.0\n",
      "2    3  Female   55     170         A              64          63.3\n",
      "3    4  Female   33     171         A              64          61.1\n",
      "4    5  Female   50     170         A              65          62.2\n",
      "..  ..     ...  ...     ...       ...             ...           ...\n",
      "71  74    Male   35     183         C              83          80.2\n",
      "72  75    Male   49     177         C              84          79.9\n",
      "73  76    Male   28     164         C              85          79.7\n",
      "74  77    Male   40     167         C              87          77.8\n",
      "75  78    Male   51     175         C              88          81.9\n",
      "\n",
      "[76 rows x 7 columns]\n",
      "\n",
      "First 3 Recods:\n",
      "   id  gender  age  height diet.type  initial.weight  final.weight\n",
      "0   1  Female   22     159         A              58          54.2\n",
      "1   2  Female   46     192         A              60          54.0\n",
      "2   3  Female   55     170         A              64          63.3\n",
      "\n",
      "Female Records:\n",
      "    id  gender  age  height diet.type  initial.weight  final.weight\n",
      "0    1  Female   22     159         A              58          54.2\n",
      "1    2  Female   46     192         A              60          54.0\n",
      "2    3  Female   55     170         A              64          63.3\n",
      "3    4  Female   33     171         A              64          61.1\n",
      "4    5  Female   50     170         A              65          62.2\n",
      "5    6  Female   50     201         A              66          64.0\n",
      "6    7  Female   37     174         A              67          65.0\n",
      "7    8  Female   28     176         A              69          60.5\n",
      "8    9  Female   28     165         A              70          68.1\n",
      "9   10  Female   45     165         A              70          66.9\n",
      "10  11  Female   60     173         A              72          70.5\n",
      "11  12  Female   48     156         A              72          69.0\n",
      "12  13  Female   41     163         A              72          68.4\n",
      "13  14  Female   37     167         A              82          81.1\n",
      "14  27  Female   44     174         B              58          60.1\n",
      "15  28  Female   37     172         B              58          56.0\n",
      "16  29  Female   41     165         B              59          57.3\n",
      "17  30  Female   43     171         B              61          56.7\n",
      "18  31  Female   20     169         B              62          55.0\n",
      "19  32  Female   51     174         B              63          62.4\n",
      "20  33  Female   31     163         B              63          60.3\n",
      "21  34  Female   54     173         B              63          59.4\n",
      "22  35  Female   50     166         B              65          62.0\n",
      "23  36  Female   48     163         B              66          64.0\n",
      "24  37  Female   16     165         B              68          63.8\n",
      "25  38  Female   37     167         B              68          63.3\n",
      "26  39  Female   30     161         B              76          72.7\n",
      "27  40  Female   29     169         B              77          77.5\n",
      "28  52  Female   51     165         C              60          53.0\n",
      "29  53  Female   35     169         C              62          56.4\n",
      "30  54  Female   21     159         C              64          60.6\n",
      "31  55  Female   22     169         C              65          58.2\n",
      "32  56  Female   36     160         C              66          58.2\n",
      "33  57  Female   20     169         C              67          61.6\n",
      "34  58  Female   35     163         C              67          60.2\n",
      "35  59  Female   45     155         C              69          61.8\n",
      "36  60  Female   58     141         C              70          63.0\n",
      "37  61  Female   37     170         C              70          62.7\n",
      "38  62  Female   31     170         C              72          71.1\n",
      "39  63  Female   35     171         C              72          64.4\n",
      "40  64  Female   56     171         C              73          68.9\n",
      "41  65  Female   48     153         C              75          68.7\n",
      "42  66  Female   41     157         C              76          71.0\n",
      "\n",
      "Weight Less than 60:\n",
      "    id  gender  age  height diet.type  initial.weight  final.weight\n",
      "0    1  Female   22     159         A              58          54.2\n",
      "14  27  Female   44     174         B              58          60.1\n",
      "15  28  Female   37     172         B              58          56.0\n",
      "16  29  Female   41     165         B              59          57.3\n"
     ]
    }
   ],
   "source": [
    "# Reading CSV\n",
    "df = pd.read_csv('./diet.csv')\n",
    "print(f\"Data Frame:\\n{df}\")\n",
    "\n",
    "print(f\"\\nFirst 3 Recods:\\n{df[:3]}\")\n",
    "\n",
    "filter = df['gender'] == 'Female'\n",
    "print(f\"\\nFemale Records:\\n{df[filter]}\")\n",
    "\n",
    "filter = df['initial.weight'] < 60\n",
    "print(f\"\\nWeight Less than 60:\\n{df[filter]}\")"
   ]
  },
  {
   "cell_type": "code",
   "execution_count": null,
   "id": "871906cd-44d8-4704-bdd6-662ec9bf60f1",
   "metadata": {},
   "outputs": [],
   "source": []
  }
 ],
 "metadata": {
  "kernelspec": {
   "display_name": "Python 3 (ipykernel)",
   "language": "python",
   "name": "python3"
  },
  "language_info": {
   "codemirror_mode": {
    "name": "ipython",
    "version": 3
   },
   "file_extension": ".py",
   "mimetype": "text/x-python",
   "name": "python",
   "nbconvert_exporter": "python",
   "pygments_lexer": "ipython3",
   "version": "3.11.4"
  }
 },
 "nbformat": 4,
 "nbformat_minor": 5
}
