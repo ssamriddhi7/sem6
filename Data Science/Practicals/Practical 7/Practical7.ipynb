{
 "cells": [
  {
   "cell_type": "code",
   "execution_count": 21,
   "id": "19d67ee4-e14e-4dad-a668-c566af6f1fe6",
   "metadata": {},
   "outputs": [
    {
     "name": "stdout",
     "output_type": "stream",
     "text": [
      "         SAP_ID     Name   Age            Course      Fees Date_of_Joining\n",
      "0   40315000001   Ashika  22.0  Computer Science   55000.0      2020-09-01\n",
      "1   40315000002    Shrey  23.0          Commerce   48000.0      2019-06-15\n",
      "2   40315000003     Vyom  21.0        Psychology   51000.0      2021-01-10\n",
      "3   40315000004  Sufiyan  24.0         Chemistry   60000.0      2018-08-20\n",
      "4   40315000005  Shonali  22.0              Arts   53000.0      2022-02-18\n",
      "5   40315000006   Aquila  23.0  Computer Science       NaN      2020-11-05\n",
      "6   40315000007  Hufriya  22.0          Commerce   62000.0      2017-03-25\n",
      "7   40315000008    Hasti   NaN        Psychology   57000.0      2019-12-31\n",
      "8   40315000009   Paarth  24.0         Chemistry   58000.0      2021-07-14\n",
      "9   40315000010   Simran  23.0              Arts   60000.0      2020-04-10\n",
      "10  40315000011     Jeet  21.0  Computer Science   65000.0      2023-01-20\n",
      "11  40315000012    Mayin  23.0          Commerce       NaN      2022-10-05\n",
      "12  40315000013   Justin  25.0        Psychology   70000.0      2018-05-30\n",
      "13  40315000014   Janavi  22.0         Chemistry   75000.0      2020-12-12\n",
      "14  40315000015   Gaurav  23.0              Arts   80000.0      2019-11-11\n",
      "15  40315000016    Aryan  21.0  Computer Science   82000.0      2021-09-09\n",
      "16  40315000017    Rudra  24.0          Commerce       NaN      2022-03-03\n",
      "17  40315000018   Kapish  22.0               NaN   85000.0      2023-05-05\n",
      "18  40315000019   Dhruvi  23.0        Psychology   87000.0      2021-04-25\n",
      "19  40315000020    Kavya  24.0         Chemistry   90000.0      2020-02-20\n",
      "20  40315000021  Vaibhav  22.0              Arts   95000.0      2019-07-07\n",
      "21  40315000022    Rajat  23.0  Computer Science  100000.0      2021-08-08\n",
      "22  40315000023    Keyur  25.0          Commerce  105000.0      2022-01-15\n",
      "23  40315000024   Ashwin  22.0        Psychology  110000.0      2018-10-10\n",
      "24  40315000025  Kashish  23.0         Chemistry  115000.0      2020-06-06\n",
      "25  40315000026    Adiba  21.0              Arts  120000.0      2019-03-03\n",
      "26  40315000027    Amaan  24.0  Computer Science  130000.0      2021-05-15\n",
      "27  40315000028    Aditi  22.0          Commerce  135000.0      2023-04-04\n",
      "28  40315000029   Arushi   NaN        Psychology  140000.0      2022-12-12\n",
      "29  40315000001   Anurag  22.0  Computer Science   55000.0      2020-09-01\n"
     ]
    }
   ],
   "source": [
    "# Practical 7 - \n",
    "\n",
    "import pandas as pd\n",
    "from sklearn.preprocessing import LabelEncoder\n",
    "\n",
    "df = pd.read_csv('students.csv')\n",
    "print(df)"
   ]
  },
  {
   "cell_type": "code",
   "execution_count": 22,
   "id": "e1f87dc5-acfe-4c84-a640-dc9f22c289d6",
   "metadata": {},
   "outputs": [
    {
     "name": "stdout",
     "output_type": "stream",
     "text": [
      "Handled missing values\n"
     ]
    }
   ],
   "source": [
    "df['Date_of_Joining'] = pd.to_datetime(df['Date_of_Joining'], format='%Y-%m-%d', errors='coerce')\n",
    "df.fillna({'Fees': df['Fees'].mean(), 'Age': df['Age'].median(), 'Course': df['Course'].mode()[0]}, inplace=True)\n",
    "print(\"Handled missing values\")"
   ]
  },
  {
   "cell_type": "code",
   "execution_count": 23,
   "id": "f6a0737e-e2e2-43b3-9fa0-94cc42961180",
   "metadata": {},
   "outputs": [
    {
     "name": "stdout",
     "output_type": "stream",
     "text": [
      "Duplicate rows:\n",
      "Empty DataFrame\n",
      "Columns: [SAP_ID, Name, Age, Course, Fees, Date_of_Joining]\n",
      "Index: []\n"
     ]
    }
   ],
   "source": [
    "print(\"Duplicate rows:\")\n",
    "print(df[df.duplicated()])"
   ]
  },
  {
   "cell_type": "code",
   "execution_count": 24,
   "id": "962dc4fe-c9a8-4e69-8ade-46358563dedf",
   "metadata": {},
   "outputs": [],
   "source": [
    "df['SAP_ID'] = df['SAP_ID'].astype(str)"
   ]
  },
  {
   "cell_type": "code",
   "execution_count": 26,
   "id": "d69f1097-78f6-4d99-bb2b-1fc30a861ddc",
   "metadata": {},
   "outputs": [
    {
     "name": "stdout",
     "output_type": "stream",
     "text": [
      "Average fees: 83074.07407407407\n",
      "Standard Deviation of fees: 26492.583120728046\n"
     ]
    }
   ],
   "source": [
    "mean_fees = df['Fees'].mean()\n",
    "std_fees = df['Fees'].std()\n",
    "print(f\"Average fees: {mean_fees}\")\n",
    "print(f\"Standard Deviation of fees: {std_fees}\")"
   ]
  },
  {
   "cell_type": "code",
   "execution_count": 35,
   "id": "58d29c32-3e69-46b5-a049-69247b9f59b9",
   "metadata": {},
   "outputs": [
    {
     "name": "stdout",
     "output_type": "stream",
     "text": [
      "Outliers:\n",
      "Empty DataFrame\n",
      "Columns: [SAP_ID, Name, Age, Course, Fees, Date_of_Joining, score]\n",
      "Index: []\n"
     ]
    }
   ],
   "source": [
    "df['score'] = (df['Fees'] - mean_fees) / std_fees\n",
    "outliers = df[df['score'] > 3]\n",
    "print(\"Outliers:\")\n",
    "print(outliers)"
   ]
  },
  {
   "cell_type": "code",
   "execution_count": 36,
   "id": "75921fba-142f-4a9f-bfb2-99615ef032dc",
   "metadata": {},
   "outputs": [
    {
     "name": "stdout",
     "output_type": "stream",
     "text": [
      "Courses with fees > 1L: ['Commerce' 'Psychology' 'Chemistry' 'Arts' 'Computer Science']\n",
      "\n"
     ]
    }
   ],
   "source": [
    "print(f\"Courses with fees > 1L: {df.loc[df['Fees'] > 100000, 'Course'].unique()}\\n\")"
   ]
  },
  {
   "cell_type": "code",
   "execution_count": 37,
   "id": "3645c966-3b61-4ff2-b219-b7b679e6f60a",
   "metadata": {},
   "outputs": [
    {
     "name": "stdout",
     "output_type": "stream",
     "text": [
      "             SAP_ID    Name        Age            Course           Fees  \\\n",
      "count            30      30  30.000000                30      30.000000   \n",
      "unique           29      30        NaN                 5            NaN   \n",
      "top     40315000001  Ashika        NaN  Computer Science            NaN   \n",
      "freq              2       1        NaN                 8            NaN   \n",
      "mean            NaN     NaN  22.733333               NaN   83074.074074   \n",
      "min             NaN     NaN  21.000000               NaN   48000.000000   \n",
      "25%             NaN     NaN  22.000000               NaN   60000.000000   \n",
      "50%             NaN     NaN  23.000000               NaN   82537.037037   \n",
      "75%             NaN     NaN  23.000000               NaN   98750.000000   \n",
      "max             NaN     NaN  25.000000               NaN  140000.000000   \n",
      "std             NaN     NaN   1.112107               NaN   26492.583121   \n",
      "\n",
      "            Date_of_Joining         score  \n",
      "count                    30  3.000000e+01  \n",
      "unique                  NaN           NaN  \n",
      "top                     NaN           NaN  \n",
      "freq                    NaN           NaN  \n",
      "mean    2020-11-03 05:36:00  1.480297e-17  \n",
      "min     2017-03-25 00:00:00 -1.323921e+00  \n",
      "25%     2019-11-23 12:00:00 -8.709635e-01  \n",
      "50%     2020-11-23 12:00:00 -2.027122e-02  \n",
      "75%     2021-12-14 00:00:00  5.917100e-01  \n",
      "max     2023-05-05 00:00:00  2.148750e+00  \n",
      "std                     NaN  1.000000e+00  \n"
     ]
    }
   ],
   "source": [
    "print(df.describe(include='all'))"
   ]
  },
  {
   "cell_type": "code",
   "execution_count": 38,
   "id": "05d847cb-5f53-4d7a-ad84-990bbc2fa967",
   "metadata": {},
   "outputs": [
    {
     "name": "stdout",
     "output_type": "stream",
     "text": [
      "Missing Values in each column:\n",
      "SAP_ID             0\n",
      "Name               0\n",
      "Age                0\n",
      "Course             0\n",
      "Fees               0\n",
      "Date_of_Joining    0\n",
      "score              0\n",
      "dtype: int64\n"
     ]
    }
   ],
   "source": [
    "print(\"Missing Values in each column:\")\n",
    "print(df.isnull().sum())"
   ]
  },
  {
   "cell_type": "code",
   "execution_count": 40,
   "id": "65b62a58-d1d2-4b29-be70-e8271379d85a",
   "metadata": {},
   "outputs": [
    {
     "name": "stdout",
     "output_type": "stream",
     "text": [
      "Number of outliers: 0\n"
     ]
    }
   ],
   "source": [
    "print(\"Number of outliers:\", len(outliers))"
   ]
  },
  {
   "cell_type": "code",
   "execution_count": 41,
   "id": "b6105880-fe1e-41a2-b951-d3c1025bcef0",
   "metadata": {},
   "outputs": [
    {
     "name": "stdout",
     "output_type": "stream",
     "text": [
      "Mapping of Course to numeric codes:\n",
      "             Course  Course_encoded\n",
      "4              Arts               0\n",
      "3         Chemistry               1\n",
      "1          Commerce               2\n",
      "0  Computer Science               3\n",
      "2        Psychology               4\n"
     ]
    }
   ],
   "source": [
    "le = LabelEncoder()\n",
    "df['Course_encoded'] = le.fit_transform(df['Course'].astype(str))\n",
    "print(\"Mapping of Course to numeric codes:\")\n",
    "print(df[['Course', 'Course_encoded']].drop_duplicates().sort_values('Course_encoded'))"
   ]
  },
  {
   "cell_type": "code",
   "execution_count": 42,
   "id": "26777d6a-8f4e-42b7-8a2a-42378e96515c",
   "metadata": {},
   "outputs": [
    {
     "name": "stdout",
     "output_type": "stream",
     "text": [
      "         SAP_ID     Name   Age            Course           Fees  \\\n",
      "0   40315000001   Ashika  22.0  Computer Science   55000.000000   \n",
      "1   40315000002    Shrey  23.0          Commerce   48000.000000   \n",
      "2   40315000003     Vyom  21.0        Psychology   51000.000000   \n",
      "3   40315000004  Sufiyan  24.0         Chemistry   60000.000000   \n",
      "4   40315000005  Shonali  22.0              Arts   53000.000000   \n",
      "5   40315000006   Aquila  23.0  Computer Science   83074.074074   \n",
      "6   40315000007  Hufriya  22.0          Commerce   62000.000000   \n",
      "7   40315000008    Hasti  23.0        Psychology   57000.000000   \n",
      "8   40315000009   Paarth  24.0         Chemistry   58000.000000   \n",
      "9   40315000010   Simran  23.0              Arts   60000.000000   \n",
      "10  40315000011     Jeet  21.0  Computer Science   65000.000000   \n",
      "11  40315000012    Mayin  23.0          Commerce   83074.074074   \n",
      "12  40315000013   Justin  25.0        Psychology   70000.000000   \n",
      "13  40315000014   Janavi  22.0         Chemistry   75000.000000   \n",
      "14  40315000015   Gaurav  23.0              Arts   80000.000000   \n",
      "15  40315000016    Aryan  21.0  Computer Science   82000.000000   \n",
      "16  40315000017    Rudra  24.0          Commerce   83074.074074   \n",
      "17  40315000018   Kapish  22.0  Computer Science   85000.000000   \n",
      "18  40315000019   Dhruvi  23.0        Psychology   87000.000000   \n",
      "19  40315000020    Kavya  24.0         Chemistry   90000.000000   \n",
      "20  40315000021  Vaibhav  22.0              Arts   95000.000000   \n",
      "21  40315000022    Rajat  23.0  Computer Science  100000.000000   \n",
      "22  40315000023    Keyur  25.0          Commerce  105000.000000   \n",
      "23  40315000024   Ashwin  22.0        Psychology  110000.000000   \n",
      "24  40315000025  Kashish  23.0         Chemistry  115000.000000   \n",
      "25  40315000026    Adiba  21.0              Arts  120000.000000   \n",
      "26  40315000027    Amaan  24.0  Computer Science  130000.000000   \n",
      "27  40315000028    Aditi  22.0          Commerce  135000.000000   \n",
      "28  40315000029   Arushi  23.0        Psychology  140000.000000   \n",
      "29  40315000001   Anurag  22.0  Computer Science   55000.000000   \n",
      "\n",
      "   Date_of_Joining     score  Course_encoded  \n",
      "0       2020-09-01 -1.059696               3  \n",
      "1       2019-06-15 -1.323921               2  \n",
      "2       2021-01-10 -1.210681               4  \n",
      "3       2018-08-20 -0.870964               1  \n",
      "4       2022-02-18 -1.135188               0  \n",
      "5       2020-11-05  0.000000               3  \n",
      "6       2017-03-25 -0.795471               2  \n",
      "7       2019-12-31 -0.984203               4  \n",
      "8       2021-07-14 -0.946456               1  \n",
      "9       2020-04-10 -0.870964               0  \n",
      "10      2023-01-20 -0.682231               3  \n",
      "11      2022-10-05  0.000000               2  \n",
      "12      2018-05-30 -0.493499               4  \n",
      "13      2020-12-12 -0.304767               1  \n",
      "14      2019-11-11 -0.116035               0  \n",
      "15      2021-09-09 -0.040542               3  \n",
      "16      2022-03-03  0.000000               2  \n",
      "17      2023-05-05  0.072697               3  \n",
      "18      2021-04-25  0.148190               4  \n",
      "19      2020-02-20  0.261429               1  \n",
      "20      2019-07-07  0.450161               0  \n",
      "21      2021-08-08  0.638893               3  \n",
      "22      2022-01-15  0.827625               2  \n",
      "23      2018-10-10  1.016357               4  \n",
      "24      2020-06-06  1.205089               1  \n",
      "25      2019-03-03  1.393821               0  \n",
      "26      2021-05-15  1.771285               3  \n",
      "27      2023-04-04  1.960017               2  \n",
      "28      2022-12-12  2.148750               4  \n",
      "29      2020-09-01 -1.059696               3  \n"
     ]
    }
   ],
   "source": [
    "print(df)"
   ]
  },
  {
   "cell_type": "code",
   "execution_count": 45,
   "id": "f4a6ee9b-999f-4cba-a0aa-363e12141600",
   "metadata": {},
   "outputs": [
    {
     "name": "stdout",
     "output_type": "stream",
     "text": [
      "         SAP_ID     Name   Age  Experience         Skills  Tenure    Salary  \\\n",
      "0   40315000001   Ashika  30.0         5.0         Python       3   75000.0   \n",
      "1   40315000002    Shrey  28.0         3.0           Java       2   65000.0   \n",
      "2   40315000003     Vyom  35.0        10.0            SQL       8  120000.0   \n",
      "3   40315000004  Sufiyan  40.0        15.0          Excel      10  110000.0   \n",
      "4   40315000005  Shonali  32.0         7.0            C++       4   90000.0   \n",
      "5   40315000006   Aquila  29.0         4.0     Management       2   70000.0   \n",
      "6   40315000007  Hufriya   NaN         6.0  Communication       3   80000.0   \n",
      "7   40315000008    Hasti  33.0         8.0         Design       5       NaN   \n",
      "8   40315000009   Paarth  37.0        12.0         Python       7  130000.0   \n",
      "9   40315000010   Simran  31.0         5.0           Java       3   75000.0   \n",
      "10  40315000011     Jeet  29.0         NaN            SQL       4   85000.0   \n",
      "11  40315000012    Mayin  34.0         9.0          Excel       6   95000.0   \n",
      "12  40315000013   Justin  36.0        11.0            C++       7  105000.0   \n",
      "13  40315000014   Janavi  27.0         3.0     Management       2   68000.0   \n",
      "14  40315000015   Gaurav  38.0        14.0  Communication       9  115000.0   \n",
      "15  40315000016    Aryan  30.0         6.0         Design       4   78000.0   \n",
      "16  40315000017    Rudra  41.0        16.0         Python      12  140000.0   \n",
      "17  40315000018   Kapish  32.0         7.0           Java       3   80000.0   \n",
      "18  40315000019   Dhruvi  39.0        13.0            SQL       8  125000.0   \n",
      "19  40315000020    Kavya  28.0         4.0          Excel       2   68000.0   \n",
      "20  40315000021  Vaibhav  35.0        10.0            C++       7  102000.0   \n",
      "21  40315000022    Rajat  30.0         5.0     Management       3   76000.0   \n",
      "22  40315000023    Keyur  33.0         8.0  Communication       6   95000.0   \n",
      "23  40315000024   Ashwin  36.0        12.0         Design       7  110000.0   \n",
      "24  40315000025  Kashish   NaN         NaN         Python       5       NaN   \n",
      "25  40315000026    Adiba  40.0        15.0           Java      10  130000.0   \n",
      "26  40315000027    Amaan  29.0         5.0            SQL       3   77000.0   \n",
      "27  40315000028    Aditi  34.0         9.0          Excel       6   98000.0   \n",
      "28  40315000029   Arushi  38.0        12.0            C++       8  125000.0   \n",
      "29  40315000030   Anurag  31.0         6.0     Management       4   82000.0   \n",
      "\n",
      "   Date_of_Joining  \n",
      "0        7/10/2018  \n",
      "1        3/15/2019  \n",
      "2        5/20/2015  \n",
      "3       11/30/2010  \n",
      "4        6/25/2016  \n",
      "5         1/5/2020  \n",
      "6        8/14/2017  \n",
      "7         9/9/2014  \n",
      "8        4/17/2013  \n",
      "9       12/12/2018  \n",
      "10      10/10/2019  \n",
      "11        7/7/2015  \n",
      "12        2/2/2014  \n",
      "13        5/5/2021  \n",
      "14        3/3/2012  \n",
      "15      11/11/2017  \n",
      "16        9/9/2011  \n",
      "17        6/6/2018  \n",
      "18      12/12/2013  \n",
      "19        3/3/2020  \n",
      "20      10/10/2015  \n",
      "21        1/1/2019  \n",
      "22        8/8/2016  \n",
      "23        4/4/2014  \n",
      "24        5/5/2018  \n",
      "25        7/7/2012  \n",
      "26        9/9/2019  \n",
      "27      11/11/2015  \n",
      "28        8/8/2013  \n",
      "29        2/2/2017  \n"
     ]
    }
   ],
   "source": [
    "# Dataset 2\n",
    "\n",
    "df = pd.read_csv('employees.csv')\n",
    "print(df)"
   ]
  },
  {
   "cell_type": "code",
   "execution_count": 48,
   "id": "7080322d-ffcd-48c8-b51d-c3a474b329fa",
   "metadata": {},
   "outputs": [
    {
     "name": "stdout",
     "output_type": "stream",
     "text": [
      "Handled missing values\n"
     ]
    }
   ],
   "source": [
    "df['Date_of_Joining'] = pd.to_datetime(df['Date_of_Joining'], format='%Y-%m-%d', errors='coerce')\n",
    "df.fillna({'Salary': df['Salary'].mean(), 'Age': df['Age'].median(), 'Skills': df['Skills'].mode()[0]}, inplace=True)\n",
    "print(\"Handled missing values\")"
   ]
  },
  {
   "cell_type": "code",
   "execution_count": 49,
   "id": "bb9d99c7-397d-4b6f-8279-7b69f280e6f0",
   "metadata": {},
   "outputs": [
    {
     "name": "stdout",
     "output_type": "stream",
     "text": [
      "Duplicate rows:\n",
      "Empty DataFrame\n",
      "Columns: [SAP_ID, Name, Age, Experience, Skills, Tenure, Salary, Date_of_Joining]\n",
      "Index: []\n"
     ]
    }
   ],
   "source": [
    "print(\"Duplicate rows:\")\n",
    "print(df[df.duplicated()])"
   ]
  },
  {
   "cell_type": "code",
   "execution_count": 50,
   "id": "79632ffd-7b29-4045-ac70-283f7ec0210b",
   "metadata": {},
   "outputs": [],
   "source": [
    "df['SAP_ID'] = df['SAP_ID'].astype(str)"
   ]
  },
  {
   "cell_type": "code",
   "execution_count": 51,
   "id": "438b9be0-fc03-4a74-9d78-a0401865ccda",
   "metadata": {},
   "outputs": [
    {
     "name": "stdout",
     "output_type": "stream",
     "text": [
      "Average Salary: 95321.42857142858\n",
      "Standard Deviation of Salary: 21500.687352971912\n"
     ]
    }
   ],
   "source": [
    "mean_salary = df['Salary'].mean()\n",
    "std_salary = df['Salary'].std()\n",
    "print(f\"Average Salary: {mean_salary}\")\n",
    "print(f\"Standard Deviation of Salary: {std_salary}\")"
   ]
  },
  {
   "cell_type": "code",
   "execution_count": 52,
   "id": "fd8115a4-83c6-4e51-bbe8-176add13eed7",
   "metadata": {},
   "outputs": [
    {
     "name": "stdout",
     "output_type": "stream",
     "text": [
      "Outliers:\n",
      "Empty DataFrame\n",
      "Columns: [SAP_ID, Name, Age, Experience, Skills, Tenure, Salary, Date_of_Joining, score]\n",
      "Index: []\n"
     ]
    }
   ],
   "source": [
    "df['score'] = (df['Salary'] - mean_salary) / std_salary\n",
    "outliers = df[df['score'] > 3]\n",
    "print(\"Outliers:\")\n",
    "print(outliers)"
   ]
  },
  {
   "cell_type": "code",
   "execution_count": 58,
   "id": "5ef80431-6432-46fc-893d-a2ffdc18b10d",
   "metadata": {},
   "outputs": [
    {
     "name": "stdout",
     "output_type": "stream",
     "text": [
      "Skills with salary > 1L: ['SQL' 'Excel' 'Python' 'C++' 'Communication' 'Design' 'Java']\n",
      "\n"
     ]
    }
   ],
   "source": [
    "print(f\"Skills with salary > 1L: {df.loc[df['Salary'] > 100000, 'Skills'].unique()}\\n\")"
   ]
  },
  {
   "cell_type": "code",
   "execution_count": 54,
   "id": "1db7f6ae-b297-4dee-8944-358b01238891",
   "metadata": {},
   "outputs": [
    {
     "name": "stdout",
     "output_type": "stream",
     "text": [
      "             SAP_ID    Name        Age  Experience  Skills     Tenure  \\\n",
      "count            30      30  30.000000   28.000000      30  30.000000   \n",
      "unique           30      30        NaN         NaN       8        NaN   \n",
      "top     40315000001  Ashika        NaN         NaN  Python        NaN   \n",
      "freq              1       1        NaN         NaN       4        NaN   \n",
      "mean            NaN     NaN  33.366667    8.571429     NaN   5.433333   \n",
      "min             NaN     NaN  27.000000    3.000000     NaN   2.000000   \n",
      "25%             NaN     NaN  30.000000    5.000000     NaN   3.000000   \n",
      "50%             NaN     NaN  33.000000    8.000000     NaN   5.000000   \n",
      "75%             NaN     NaN  36.000000   12.000000     NaN   7.000000   \n",
      "max             NaN     NaN  41.000000   16.000000     NaN  12.000000   \n",
      "std             NaN     NaN   3.978245    3.910372     NaN   2.750340   \n",
      "\n",
      "               Salary Date_of_Joining         score  \n",
      "count       30.000000               0  3.000000e+01  \n",
      "unique            NaN             NaN           NaN  \n",
      "top               NaN             NaN           NaN  \n",
      "freq              NaN             NaN           NaN  \n",
      "mean     95321.428571             NaT -3.811766e-16  \n",
      "min      65000.000000             NaT -1.410254e+00  \n",
      "25%      77250.000000             NaT -8.405047e-01  \n",
      "50%      95000.000000             NaT -1.494969e-02  \n",
      "75%     110000.000000             NaT  6.827024e-01  \n",
      "max     140000.000000             NaT  2.078007e+00  \n",
      "std      21500.687353             NaN  1.000000e+00  \n"
     ]
    }
   ],
   "source": [
    "print(df.describe(include='all'))"
   ]
  },
  {
   "cell_type": "code",
   "execution_count": 55,
   "id": "0a29e6cc-2497-4724-a897-a81dbd397429",
   "metadata": {},
   "outputs": [
    {
     "name": "stdout",
     "output_type": "stream",
     "text": [
      "Missing Values in each column:\n",
      "SAP_ID              0\n",
      "Name                0\n",
      "Age                 0\n",
      "Experience          2\n",
      "Skills              0\n",
      "Tenure              0\n",
      "Salary              0\n",
      "Date_of_Joining    30\n",
      "score               0\n",
      "dtype: int64\n"
     ]
    }
   ],
   "source": [
    "print(\"Missing Values in each column:\")\n",
    "print(df.isnull().sum())"
   ]
  },
  {
   "cell_type": "code",
   "execution_count": 56,
   "id": "4d9a1038-83bb-4eca-81ba-8d33e114ccaa",
   "metadata": {},
   "outputs": [
    {
     "name": "stdout",
     "output_type": "stream",
     "text": [
      "Number of outliers: 0\n"
     ]
    }
   ],
   "source": [
    "print(\"Number of outliers:\", len(outliers))"
   ]
  },
  {
   "cell_type": "code",
   "execution_count": 57,
   "id": "4fde7f3d-b40e-4238-b839-0899c37b3717",
   "metadata": {},
   "outputs": [
    {
     "name": "stdout",
     "output_type": "stream",
     "text": [
      "Mapping of Skills to numeric codes:\n",
      "          Skills  Skills_encoded\n",
      "4            C++               0\n",
      "6  Communication               1\n",
      "7         Design               2\n",
      "3          Excel               3\n",
      "1           Java               4\n",
      "5     Management               5\n",
      "0         Python               6\n",
      "2            SQL               7\n"
     ]
    }
   ],
   "source": [
    "le = LabelEncoder()\n",
    "df['Skills_encoded'] = le.fit_transform(df['Skills'].astype(str))\n",
    "print(\"Mapping of Skills to numeric codes:\")\n",
    "print(df[['Skills', 'Skills_encoded']].drop_duplicates().sort_values('Skills_encoded'))"
   ]
  },
  {
   "cell_type": "code",
   "execution_count": null,
   "id": "300cbd0d-0f9f-40cf-a773-24bd6dff70c2",
   "metadata": {},
   "outputs": [],
   "source": []
  }
 ],
 "metadata": {
  "kernelspec": {
   "display_name": "Python 3 (ipykernel)",
   "language": "python",
   "name": "python3"
  },
  "language_info": {
   "codemirror_mode": {
    "name": "ipython",
    "version": 3
   },
   "file_extension": ".py",
   "mimetype": "text/x-python",
   "name": "python",
   "nbconvert_exporter": "python",
   "pygments_lexer": "ipython3",
   "version": "3.10.6"
  }
 },
 "nbformat": 4,
 "nbformat_minor": 5
}
