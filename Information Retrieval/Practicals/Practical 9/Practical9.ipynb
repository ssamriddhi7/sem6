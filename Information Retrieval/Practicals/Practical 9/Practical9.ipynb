{
 "cells": [
  {
   "cell_type": "code",
   "execution_count": 97,
   "id": "eb4381e5-83c8-4caf-a951-78965e786387",
   "metadata": {},
   "outputs": [
    {
     "name": "stdout",
     "output_type": "stream",
     "text": [
      "y: 0.21\n",
      "a: 0.15\n",
      "m: 0.63\n"
     ]
    }
   ],
   "source": [
    "# Practical 9 - Page Rank Algorithm\n",
    "\n",
    "from collections import defaultdict\n",
    "\n",
    "def multiply(matrix, vector):\n",
    "    result = [0 for i in range(len(matrix))]\n",
    "    for i in range(len(matrix)):\n",
    "        for j in range(len(vector)):\n",
    "            result[i] += matrix[i][j] * vector[j]\n",
    "            result[i] = round(result[i], 2)\n",
    "    return result\n",
    "\n",
    "def adjacency_matrix(graph):\n",
    "    n = len(graph)\n",
    "    nodes = list(graph.keys())\n",
    "    positions = { node: index for index, node in enumerate(nodes) }\n",
    "    matrix = [[0 for _ in range(n)] for _ in range(n)]\n",
    "\n",
    "    for source, destinations in graph.items():\n",
    "        for destination in destinations:\n",
    "            matrix[positions[destination]][positions[source]] = 1\n",
    "    return matrix\n",
    "\n",
    "def chance_matrix(graph):\n",
    "    n = len(graph)\n",
    "    matrix = [[1/n for _ in range(n)] for _ in range(n)]\n",
    "    return matrix\n",
    "\n",
    "def pagerank(graph, beta=0.8):\n",
    "    n = len(graph)\n",
    "    matrix = adjacency_matrix(graph)\n",
    "    chances = chance_matrix(graph)\n",
    "    nodes = list(graph.keys())\n",
    "    positions = { index: node for index, node in enumerate(nodes) }\n",
    "\n",
    "    for col in range(n):\n",
    "        sum = 0\n",
    "        for row in range(n): sum += matrix[row][col]\n",
    "        if sum == 0: continue\n",
    "        for row in range(n):\n",
    "            matrix[row][col] /= sum\n",
    "    \n",
    "    for row in range(n):\n",
    "        for col in range(n):\n",
    "            matrix[row][col] *= beta\n",
    "            matrix[row][col] += ((1 - beta) * chances[row][col])\n",
    "\n",
    "    ranks = [0 for _ in range(n)]\n",
    "    ranks[0] = 1\n",
    "    while True:\n",
    "        prev = ranks.copy()\n",
    "        ranks = multiply(matrix, ranks)\n",
    "        same = False\n",
    "        for node in range(n):\n",
    "            if ranks[node] != prev[node]: same = False\n",
    "            else: same = True\n",
    "        if same: break\n",
    "\n",
    "    for i in range(n): print(f\"{positions[i]}: {ranks[i]}\")\n",
    "\n",
    "def add(graph, u, v): graph[u].append(v)\n",
    "\n",
    "def main():\n",
    "    graph = defaultdict(list)\n",
    "    add(graph, \"y\", \"y\")\n",
    "    add(graph, \"y\", \"a\")\n",
    "    add(graph, \"a\", \"y\")\n",
    "    add(graph, \"a\", \"m\")\n",
    "    add(graph, \"m\", \"m\")\n",
    "    pagerank(graph)\n",
    "\n",
    "main()"
   ]
  },
  {
   "cell_type": "code",
   "execution_count": null,
   "id": "0a4c34e5-6152-4f05-89e2-ca987eb5b477",
   "metadata": {},
   "outputs": [],
   "source": []
  }
 ],
 "metadata": {
  "kernelspec": {
   "display_name": "Python 3 (ipykernel)",
   "language": "python",
   "name": "python3"
  },
  "language_info": {
   "codemirror_mode": {
    "name": "ipython",
    "version": 3
   },
   "file_extension": ".py",
   "mimetype": "text/x-python",
   "name": "python",
   "nbconvert_exporter": "python",
   "pygments_lexer": "ipython3",
   "version": "3.11.4"
  }
 },
 "nbformat": 4,
 "nbformat_minor": 5
}
