{
 "cells": [
  {
   "cell_type": "code",
   "execution_count": 7,
   "id": "5b34e820-5974-4f72-9ec4-25ce04e3ae1e",
   "metadata": {},
   "outputs": [
    {
     "name": "stdout",
     "output_type": "stream",
     "text": [
      "Sentence: Asseses the case with careful integration and combination\n",
      "Stemmed: asses the case with care integr and combin\n"
     ]
    }
   ],
   "source": [
    "# Practical 7 - Porter Stemmer\n",
    "\n",
    "from nltk.stem import PorterStemmer\n",
    "\n",
    "def stem(sentence):\n",
    "    words = sentence.split()\n",
    "    stemmer = PorterStemmer()\n",
    "    result = [stemmer.stem(word) for word in words]\n",
    "    return ' '.join(result)\n",
    "\n",
    "sentence = \"Asseses the case with careful integration and combination\"\n",
    "print(f\"Sentence: {sentence}\")\n",
    "print(f\"Stemmed: {stem(sentence)}\")"
   ]
  },
  {
   "cell_type": "code",
   "execution_count": null,
   "id": "a2c4b76a-fdb2-44af-9308-c5ebf65f02a9",
   "metadata": {},
   "outputs": [],
   "source": []
  }
 ],
 "metadata": {
  "kernelspec": {
   "display_name": "Python 3 (ipykernel)",
   "language": "python",
   "name": "python3"
  },
  "language_info": {
   "codemirror_mode": {
    "name": "ipython",
    "version": 3
   },
   "file_extension": ".py",
   "mimetype": "text/x-python",
   "name": "python",
   "nbconvert_exporter": "python",
   "pygments_lexer": "ipython3",
   "version": "3.11.4"
  }
 },
 "nbformat": 4,
 "nbformat_minor": 5
}
