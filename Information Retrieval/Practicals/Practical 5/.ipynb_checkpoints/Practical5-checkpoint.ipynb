{
 "cells": [
  {
   "cell_type": "code",
   "execution_count": 30,
   "id": "c6a30252-21a8-4e24-a042-311512ea4bb9",
   "metadata": {},
   "outputs": [
    {
     "name": "stdout",
     "output_type": "stream",
     "text": [
      "Levenshtein Distance: 5\n"
     ]
    }
   ],
   "source": [
    "# Practical 5 - Levenshtein Distance\n",
    "\n",
    "def levenshtein_distance(s1, s2):\n",
    "    rows, cols = len(s2) + 1, len(s1) + 1\n",
    "    grid = [[0 for _ in range(cols)] for _ in range(rows)]\n",
    "    for i in range(1, rows): grid[i][0] = i\n",
    "    for j in range(1, cols): grid[0][j] = j\n",
    "\n",
    "    for i in range(1, rows):\n",
    "        for j in range(1, cols):\n",
    "            deletion = grid[i-1][j] + 1\n",
    "            insertion = grid[i][j-1] + 1\n",
    "            substitution = grid[i-1][j-1] + (0 if s1[j-1] == s2[i-1] else 1)\n",
    "            grid[i][j] = min(deletion, min(insertion, substitution))\n",
    "    return grid[-1][-1]\n",
    "    \n",
    "s1 = \"execution\"\n",
    "s2 = \"intention\"\n",
    "distance = levenshtein_distance(s1, s2)\n",
    "print(f\"Levenshtein Distance: {distance}\")"
   ]
  },
  {
   "cell_type": "code",
   "execution_count": null,
   "id": "641fff12-9646-43d3-9e4d-3bb61e3a7769",
   "metadata": {},
   "outputs": [],
   "source": []
  }
 ],
 "metadata": {
  "kernelspec": {
   "display_name": "Python 3 (ipykernel)",
   "language": "python",
   "name": "python3"
  },
  "language_info": {
   "codemirror_mode": {
    "name": "ipython",
    "version": 3
   },
   "file_extension": ".py",
   "mimetype": "text/x-python",
   "name": "python",
   "nbconvert_exporter": "python",
   "pygments_lexer": "ipython3",
   "version": "3.11.4"
  }
 },
 "nbformat": 4,
 "nbformat_minor": 5
}
