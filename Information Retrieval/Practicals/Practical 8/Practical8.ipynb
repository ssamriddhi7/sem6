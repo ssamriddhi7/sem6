{
 "cells": [
  {
   "cell_type": "code",
   "execution_count": 215,
   "id": "59dcac93-31b6-4308-b9f6-4da1d9175ca0",
   "metadata": {},
   "outputs": [
    {
     "name": "stdout",
     "output_type": "stream",
     "text": [
      "Predicted Rating: 4.24321190179887\n"
     ]
    }
   ],
   "source": [
    "import pandas as pd\n",
    "import numpy as np\n",
    "from sklearn.neighbors import NearestNeighbors\n",
    "\n",
    "def display(data):\n",
    "    data_with_nans = data.copy()\n",
    "    data_with_nans[data_with_nans == 0] = np.nan\n",
    "    print(data_with_nans)\n",
    "\n",
    "def find_similar_users(user_id, data, k, usermap, userinversemap):\n",
    "    similar_users = []\n",
    "    distances = []\n",
    "    k += 1\n",
    "    \n",
    "    user = data.loc[user_id].values.reshape(1, -1)\n",
    "    knn = NearestNeighbors(n_neighbors=k, algorithm=\"brute\", metric=\"cosine\")\n",
    "    knn.fit(data)\n",
    "    neighbors = knn.kneighbors(user, return_distance=True)\n",
    "    \n",
    "    for i in range(k):\n",
    "        neighbor = neighbors[1].item(i)\n",
    "        similar_users.append(userinversemap[neighbor])\n",
    "        distances.append(neighbors[0][0][i])\n",
    "\n",
    "    return distances[1:], similar_users[1:]\n",
    "\n",
    "def predict(user_id, movie_id, k):\n",
    "    ratings = pd.read_csv(\"ratings.csv\")\n",
    "    data = ratings.pivot(index='userId', columns='movieId', values='rating').fillna(0)\n",
    "    usermap = dict(zip(np.unique(ratings[\"userId\"]), list(range(len(ratings[\"userId\"].unique())))))\n",
    "    userinversemap = dict(zip(list(range(len(ratings[\"userId\"].unique()))), np.unique(ratings[\"userId\"])))\n",
    "    distances, similar_users = find_similar_users(user_id, data, k, usermap, userinversemap)\n",
    "    \n",
    "    numerator = []\n",
    "    denominator = []\n",
    "    if data.loc[user_id][movie_id] != 0:\n",
    "        print(\"Rating already exists\")\n",
    "        return data.loc[user_id][movie_id]\n",
    "    for i in range(k):\n",
    "        other_user_rating = data.loc[similar_users[i]][movie_id]\n",
    "        if other_user_rating == 0: continue\n",
    "        numerator.append(other_user_rating * distances[i])\n",
    "        denominator.append(distances[i])  \n",
    "    if len(numerator) == 0 or len(denominator) == 0:\n",
    "        print(\"Insufficient ratings\")\n",
    "        return None\n",
    "    return sum(numerator) / sum(denominator)\n",
    "\n",
    "user_id = 1\n",
    "movie_id = 69\n",
    "k = 10\n",
    "prediction = predict(user_id, movie_id, k)\n",
    "print(f\"Predicted Rating: {prediction}\")"
   ]
  },
  {
   "cell_type": "code",
   "execution_count": null,
   "id": "5dd3d77d-1152-425d-9393-da2878b23479",
   "metadata": {},
   "outputs": [],
   "source": []
  }
 ],
 "metadata": {
  "kernelspec": {
   "display_name": "Python 3 (ipykernel)",
   "language": "python",
   "name": "python3"
  },
  "language_info": {
   "codemirror_mode": {
    "name": "ipython",
    "version": 3
   },
   "file_extension": ".py",
   "mimetype": "text/x-python",
   "name": "python",
   "nbconvert_exporter": "python",
   "pygments_lexer": "ipython3",
   "version": "3.11.4"
  }
 },
 "nbformat": 4,
 "nbformat_minor": 5
}
