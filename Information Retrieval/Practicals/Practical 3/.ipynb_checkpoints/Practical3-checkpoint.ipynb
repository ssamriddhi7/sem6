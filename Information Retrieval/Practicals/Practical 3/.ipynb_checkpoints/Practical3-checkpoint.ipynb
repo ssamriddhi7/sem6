{
 "cells": [
  {
   "cell_type": "code",
   "execution_count": 1,
   "id": "d58bf846-47ea-4441-9e2b-f89bdc62b6b8",
   "metadata": {},
   "outputs": [
    {
     "name": "stdout",
     "output_type": "stream",
     "text": [
      "['$hello$', '$world$']\n",
      "['$hel', 'hell', 'ello', 'llo$', '$wor', 'worl', 'orld', 'rld$']\n"
     ]
    }
   ],
   "source": [
    "# Practical 3 - N-Grams\n",
    "\n",
    "def ngrams(sentence, n):\n",
    "    result = []\n",
    "    words = [f\"${word}$\" for word in sentence.split(\" \")]\n",
    "    for word in words:\n",
    "        for i in range(len(word)-n+1):\n",
    "            result.append(word[i:i+n])\n",
    "    return result\n",
    "\n",
    "n = 4\n",
    "sentence = \"hello world\"\n",
    "print(ngrams(sentence, n))"
   ]
  },
  {
   "cell_type": "code",
   "execution_count": null,
   "id": "142b0dd2-5f9c-4502-8faa-5537404cca08",
   "metadata": {},
   "outputs": [],
   "source": []
  }
 ],
 "metadata": {
  "kernelspec": {
   "display_name": "Python 3 (ipykernel)",
   "language": "python",
   "name": "python3"
  },
  "language_info": {
   "codemirror_mode": {
    "name": "ipython",
    "version": 3
   },
   "file_extension": ".py",
   "mimetype": "text/x-python",
   "name": "python",
   "nbconvert_exporter": "python",
   "pygments_lexer": "ipython3",
   "version": "3.11.4"
  }
 },
 "nbformat": 4,
 "nbformat_minor": 5
}
